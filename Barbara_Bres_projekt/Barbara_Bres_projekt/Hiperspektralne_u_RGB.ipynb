{
 "cells": [
  {
   "cell_type": "code",
   "execution_count": 1,
   "id": "bc119fa7",
   "metadata": {},
   "outputs": [],
   "source": [
    "import numpy as np\n",
    "import h5py\n",
    "import tensorflow as tf\n",
    "from tensorflow import keras\n",
    "from tensorflow.keras import layers\n",
    "from matplotlib import pyplot as plt"
   ]
  },
  {
   "cell_type": "code",
   "execution_count": 2,
   "id": "e6b3fe04",
   "metadata": {},
   "outputs": [],
   "source": [
    "import os\n",
    "PATH = './out_2/'\n",
    "\n",
    "#load .h5 images from local folder\n",
    "def loadImageh5(name):\n",
    "    with h5py.File(PATH+name, 'r') as img:\n",
    "        return np.array(img['img'], dtype=np.single)\n",
    "\n",
    "imgs = []\n",
    "for i in os.listdir(PATH):\n",
    "    imgs.append(loadImageh5(i))"
   ]
  },
  {
   "cell_type": "code",
   "execution_count": 3,
   "id": "7767cd56",
   "metadata": {},
   "outputs": [
    {
     "name": "stdout",
     "output_type": "stream",
     "text": [
      "(224, 150, 163)\n"
     ]
    }
   ],
   "source": [
    "#checking the shape of the .h5 images\n",
    "input_shape = imgs[0].shape\n",
    "print(input_shape)"
   ]
  },
  {
   "cell_type": "code",
   "execution_count": 4,
   "id": "04c0e710",
   "metadata": {},
   "outputs": [
    {
     "name": "stdout",
     "output_type": "stream",
     "text": [
      "(3, 150, 163)\n"
     ]
    }
   ],
   "source": [
    "#Extracting RGB from .h5 images (wavelenghts were arbitrarily chosen: R-793nm,\n",
    "#G-331nm and B-163nm). We divide those values because RGB channels are 8 bit each \n",
    "RGBimg = []\n",
    "for i in imgs:\n",
    "    RGBimg.append(i[[793//8, 331//8, 163//8], :, :]) \n",
    "\n",
    "#printing out RGBimg shape to confirm we got an image with 3 channels instead of 224\n",
    "print(RGBimg[0].shape)"
   ]
  },
  {
   "cell_type": "code",
   "execution_count": 5,
   "id": "be5ce01e",
   "metadata": {},
   "outputs": [],
   "source": [
    "from sklearn.model_selection import train_test_split\n",
    "\n",
    "#splitting the train and test data (inputs(x) are RGB and outputs are .h5(hyperspectral))\n",
    "train_x, test_x, train_y, test_y = train_test_split(RGBimg, imgs, test_size = 0.15, random_state = 69, shuffle = False)\n"
   ]
  },
  {
   "cell_type": "code",
   "execution_count": 6,
   "id": "297cdbff",
   "metadata": {},
   "outputs": [
    {
     "name": "stdout",
     "output_type": "stream",
     "text": [
      "1083644 1083644 185658 185658\n"
     ]
    }
   ],
   "source": [
    "#turns pictures to pixles and returns pixels \n",
    "def toPix(arr):\n",
    "    pix = []\n",
    "    information = []\n",
    "    for im in arr:\n",
    "        ch, w, h = im.shape\n",
    "        information.append([ch, w, h])\n",
    "        im2 = np.fliplr(np.moveaxis(im, 0, -1))\n",
    "        pix.extend([px for row in im2 for px in row])\n",
    "    return pix, information\n",
    "\n",
    "train_x, trainX_information = toPix(train_x)\n",
    "train_y, trainY_information = toPix(train_y)\n",
    "test_x, testX_information = toPix(test_x)\n",
    "test_y, testY_information = toPix(test_y)\n",
    "\n",
    "#printing out to see how many pixels are in each set (input and output pixels)\n",
    "print(len(train_x), len(train_y), len(test_x), len(test_y))"
   ]
  },
  {
   "cell_type": "code",
   "execution_count": 7,
   "id": "b154c6eb",
   "metadata": {},
   "outputs": [
    {
     "name": "stdout",
     "output_type": "stream",
     "text": [
      "Model: \"model\"\n",
      "_________________________________________________________________\n",
      " Layer (type)                Output Shape              Param #   \n",
      "=================================================================\n",
      " input_1 (InputLayer)        [(None, 3)]               0         \n",
      "                                                                 \n",
      " dense (Dense)               (None, 14)                56        \n",
      "                                                                 \n",
      " dense_1 (Dense)             (None, 37)                555       \n",
      "                                                                 \n",
      " dense_2 (Dense)             (None, 69)                2622      \n",
      "                                                                 \n",
      " dense_3 (Dense)             (None, 102)               7140      \n",
      "                                                                 \n",
      " dense_4 (Dense)             (None, 146)               15038     \n",
      "                                                                 \n",
      " dense_5 (Dense)             (None, 224)               32928     \n",
      "                                                                 \n",
      "=================================================================\n",
      "Total params: 58,339\n",
      "Trainable params: 58,339\n",
      "Non-trainable params: 0\n",
      "_________________________________________________________________\n"
     ]
    }
   ],
   "source": [
    "#making the model so that the input is RGB and the output is 224 channels\n",
    "input = layers.Input(shape=(3))\n",
    "\n",
    "decoded = layers.Dense(14, activation='relu')(input)\n",
    "decoded = layers.Dense(37, activation='relu')(decoded)\n",
    "decoded = layers.Dense(69, activation='relu')(decoded)\n",
    "decoded = layers.Dense(102, activation='relu')(decoded)\n",
    "decoded = layers.Dense(146, activation='relu')(decoded)\n",
    "decoded = layers.Dense(224, activation='sigmoid')(decoded)\n",
    "\n",
    "autoencoder = keras.Model(input, decoded)\n",
    "autoencoder.compile(optimizer='adam', loss='mse')\n",
    "\n",
    "autoencoder.summary()"
   ]
  },
  {
   "cell_type": "code",
   "execution_count": 8,
   "id": "a23016ce",
   "metadata": {},
   "outputs": [
    {
     "name": "stdout",
     "output_type": "stream",
     "text": [
      "Epoch 1/100\n",
      "4233/4233 [==============================] - 12s 3ms/step - loss: 0.0036\n",
      "Epoch 2/100\n",
      "4233/4233 [==============================] - 12s 3ms/step - loss: 0.0019\n",
      "Epoch 3/100\n",
      "4233/4233 [==============================] - 11s 3ms/step - loss: 0.0018\n",
      "Epoch 4/100\n",
      "4233/4233 [==============================] - 11s 3ms/step - loss: 0.0017\n",
      "Epoch 5/100\n",
      "4233/4233 [==============================] - 12s 3ms/step - loss: 0.0017\n",
      "Epoch 6/100\n",
      "4233/4233 [==============================] - 11s 3ms/step - loss: 0.0017\n",
      "Epoch 7/100\n",
      "4233/4233 [==============================] - 11s 3ms/step - loss: 0.0017\n",
      "Epoch 8/100\n",
      "4233/4233 [==============================] - 11s 3ms/step - loss: 0.0017\n",
      "Epoch 9/100\n",
      "4233/4233 [==============================] - 11s 3ms/step - loss: 0.0017\n",
      "Epoch 10/100\n",
      "4233/4233 [==============================] - 11s 3ms/step - loss: 0.0017\n",
      "Epoch 11/100\n",
      "4233/4233 [==============================] - 11s 3ms/step - loss: 0.0017\n",
      "Epoch 12/100\n",
      "4233/4233 [==============================] - 12s 3ms/step - loss: 0.0017\n",
      "Epoch 13/100\n",
      "4233/4233 [==============================] - 12s 3ms/step - loss: 0.0017\n",
      "Epoch 14/100\n",
      "4233/4233 [==============================] - 11s 3ms/step - loss: 0.0017\n",
      "Epoch 15/100\n",
      "4233/4233 [==============================] - 11s 3ms/step - loss: 0.0017\n",
      "Epoch 16/100\n",
      "4233/4233 [==============================] - 11s 3ms/step - loss: 0.0017\n",
      "Epoch 17/100\n",
      "4233/4233 [==============================] - 11s 3ms/step - loss: 0.0017\n",
      "Epoch 18/100\n",
      "4233/4233 [==============================] - 11s 3ms/step - loss: 0.0017\n",
      "Epoch 19/100\n",
      "4233/4233 [==============================] - 11s 3ms/step - loss: 0.0017\n",
      "Epoch 20/100\n",
      "4233/4233 [==============================] - 11s 3ms/step - loss: 0.0017\n",
      "Epoch 21/100\n",
      "4233/4233 [==============================] - 11s 3ms/step - loss: 0.0017\n",
      "Epoch 22/100\n",
      "4233/4233 [==============================] - 11s 3ms/step - loss: 0.0017\n",
      "Epoch 23/100\n",
      "4233/4233 [==============================] - 11s 3ms/step - loss: 0.0017\n",
      "Epoch 24/100\n",
      "4233/4233 [==============================] - 11s 3ms/step - loss: 0.0017\n",
      "Epoch 25/100\n",
      "4233/4233 [==============================] - 11s 3ms/step - loss: 0.0017\n",
      "Epoch 26/100\n",
      "4233/4233 [==============================] - 11s 3ms/step - loss: 0.0017\n",
      "Epoch 27/100\n",
      "4233/4233 [==============================] - 10s 2ms/step - loss: 0.0017\n",
      "Epoch 28/100\n",
      "4233/4233 [==============================] - 10s 2ms/step - loss: 0.0017\n",
      "Epoch 29/100\n",
      "4233/4233 [==============================] - 11s 3ms/step - loss: 0.0017\n",
      "Epoch 30/100\n",
      "4233/4233 [==============================] - 11s 3ms/step - loss: 0.0017\n",
      "Epoch 31/100\n",
      "4233/4233 [==============================] - 11s 3ms/step - loss: 0.0017\n",
      "Epoch 32/100\n",
      "4233/4233 [==============================] - 11s 3ms/step - loss: 0.0017\n",
      "Epoch 33/100\n",
      "4233/4233 [==============================] - 11s 3ms/step - loss: 0.0017\n",
      "Epoch 34/100\n",
      "4233/4233 [==============================] - 11s 3ms/step - loss: 0.0017\n",
      "Epoch 35/100\n",
      "4233/4233 [==============================] - 11s 3ms/step - loss: 0.0017\n",
      "Epoch 36/100\n",
      "4233/4233 [==============================] - 11s 3ms/step - loss: 0.0017\n",
      "Epoch 37/100\n",
      "4233/4233 [==============================] - 11s 3ms/step - loss: 0.0017\n",
      "Epoch 38/100\n",
      "4233/4233 [==============================] - 11s 3ms/step - loss: 0.0017\n",
      "Epoch 39/100\n",
      "4233/4233 [==============================] - 11s 3ms/step - loss: 0.0017\n",
      "Epoch 40/100\n",
      "4233/4233 [==============================] - 11s 3ms/step - loss: 0.0017\n",
      "Epoch 41/100\n",
      "4233/4233 [==============================] - 11s 3ms/step - loss: 0.0017\n",
      "Epoch 42/100\n",
      "4233/4233 [==============================] - 11s 3ms/step - loss: 0.0017\n",
      "Epoch 43/100\n",
      "4233/4233 [==============================] - 11s 3ms/step - loss: 0.0017\n",
      "Epoch 44/100\n",
      "4233/4233 [==============================] - 11s 3ms/step - loss: 0.0017\n",
      "Epoch 45/100\n",
      "4233/4233 [==============================] - 11s 3ms/step - loss: 0.0017\n",
      "Epoch 46/100\n",
      "4233/4233 [==============================] - 11s 3ms/step - loss: 0.0017\n",
      "Epoch 47/100\n",
      "4233/4233 [==============================] - 11s 3ms/step - loss: 0.0017\n",
      "Epoch 48/100\n",
      "4233/4233 [==============================] - 11s 3ms/step - loss: 0.0017\n",
      "Epoch 49/100\n",
      "4233/4233 [==============================] - 11s 3ms/step - loss: 0.0017\n",
      "Epoch 50/100\n",
      "4233/4233 [==============================] - 11s 3ms/step - loss: 0.0017\n",
      "Epoch 51/100\n",
      "4233/4233 [==============================] - 11s 3ms/step - loss: 0.0017\n",
      "Epoch 52/100\n",
      "4233/4233 [==============================] - 11s 3ms/step - loss: 0.0017\n",
      "Epoch 53/100\n",
      "4233/4233 [==============================] - 11s 3ms/step - loss: 0.0017\n",
      "Epoch 54/100\n",
      "4233/4233 [==============================] - 11s 3ms/step - loss: 0.0017\n",
      "Epoch 55/100\n",
      "4233/4233 [==============================] - 11s 3ms/step - loss: 0.0017\n",
      "Epoch 56/100\n",
      "4233/4233 [==============================] - 11s 3ms/step - loss: 0.0017\n",
      "Epoch 57/100\n",
      "4233/4233 [==============================] - 11s 3ms/step - loss: 0.0017\n",
      "Epoch 58/100\n",
      "4233/4233 [==============================] - 11s 3ms/step - loss: 0.0017\n",
      "Epoch 59/100\n",
      "4233/4233 [==============================] - 11s 3ms/step - loss: 0.0017\n",
      "Epoch 60/100\n",
      "4233/4233 [==============================] - 11s 3ms/step - loss: 0.0017\n",
      "Epoch 61/100\n",
      "4233/4233 [==============================] - 11s 3ms/step - loss: 0.0017\n",
      "Epoch 62/100\n",
      "4233/4233 [==============================] - 11s 3ms/step - loss: 0.0017\n",
      "Epoch 63/100\n",
      "4233/4233 [==============================] - 11s 3ms/step - loss: 0.0017\n",
      "Epoch 64/100\n",
      "4233/4233 [==============================] - 11s 3ms/step - loss: 0.0017\n",
      "Epoch 65/100\n",
      "4233/4233 [==============================] - 12s 3ms/step - loss: 0.0017\n",
      "Epoch 66/100\n",
      "4233/4233 [==============================] - 11s 3ms/step - loss: 0.0017\n",
      "Epoch 67/100\n",
      "4233/4233 [==============================] - 11s 3ms/step - loss: 0.0017\n",
      "Epoch 68/100\n",
      "4233/4233 [==============================] - 11s 3ms/step - loss: 0.0017\n",
      "Epoch 69/100\n",
      "4233/4233 [==============================] - 12s 3ms/step - loss: 0.0017\n",
      "Epoch 70/100\n",
      "4233/4233 [==============================] - 11s 3ms/step - loss: 0.0017\n",
      "Epoch 71/100\n",
      "4233/4233 [==============================] - 11s 3ms/step - loss: 0.0017\n",
      "Epoch 72/100\n",
      "4233/4233 [==============================] - 11s 3ms/step - loss: 0.0017\n",
      "Epoch 73/100\n",
      "4233/4233 [==============================] - 11s 3ms/step - loss: 0.0017\n",
      "Epoch 74/100\n",
      "4233/4233 [==============================] - 11s 3ms/step - loss: 0.0017\n",
      "Epoch 75/100\n",
      "4233/4233 [==============================] - 11s 3ms/step - loss: 0.0017\n",
      "Epoch 76/100\n",
      "4233/4233 [==============================] - 11s 3ms/step - loss: 0.0017\n",
      "Epoch 77/100\n",
      "4233/4233 [==============================] - 11s 3ms/step - loss: 0.0017\n",
      "Epoch 78/100\n",
      "4233/4233 [==============================] - 11s 3ms/step - loss: 0.0017\n",
      "Epoch 79/100\n",
      "4233/4233 [==============================] - 11s 3ms/step - loss: 0.0017\n",
      "Epoch 80/100\n",
      "4233/4233 [==============================] - 11s 3ms/step - loss: 0.0017\n",
      "Epoch 81/100\n",
      "4233/4233 [==============================] - 11s 3ms/step - loss: 0.0017\n",
      "Epoch 82/100\n",
      "4233/4233 [==============================] - 11s 3ms/step - loss: 0.0017\n",
      "Epoch 83/100\n",
      "4233/4233 [==============================] - 11s 3ms/step - loss: 0.0017\n",
      "Epoch 84/100\n",
      "4233/4233 [==============================] - 11s 3ms/step - loss: 0.0017\n",
      "Epoch 85/100\n",
      "4233/4233 [==============================] - 12s 3ms/step - loss: 0.0017\n",
      "Epoch 86/100\n",
      "4233/4233 [==============================] - 12s 3ms/step - loss: 0.0017\n",
      "Epoch 87/100\n",
      "4233/4233 [==============================] - 12s 3ms/step - loss: 0.0017\n",
      "Epoch 88/100\n",
      "4233/4233 [==============================] - 12s 3ms/step - loss: 0.0017\n",
      "Epoch 89/100\n",
      "4233/4233 [==============================] - 11s 3ms/step - loss: 0.0017\n",
      "Epoch 90/100\n",
      "4233/4233 [==============================] - 11s 3ms/step - loss: 0.0017\n",
      "Epoch 91/100\n",
      "4233/4233 [==============================] - 12s 3ms/step - loss: 0.0017\n",
      "Epoch 92/100\n",
      "4233/4233 [==============================] - 11s 3ms/step - loss: 0.0017\n",
      "Epoch 93/100\n",
      "4233/4233 [==============================] - 11s 3ms/step - loss: 0.0017\n",
      "Epoch 94/100\n",
      "4233/4233 [==============================] - 12s 3ms/step - loss: 0.0017\n",
      "Epoch 95/100\n",
      "4233/4233 [==============================] - 11s 3ms/step - loss: 0.0017\n",
      "Epoch 96/100\n"
     ]
    },
    {
     "name": "stdout",
     "output_type": "stream",
     "text": [
      "4233/4233 [==============================] - 12s 3ms/step - loss: 0.0017\n",
      "Epoch 97/100\n",
      "4233/4233 [==============================] - 12s 3ms/step - loss: 0.0017\n",
      "Epoch 98/100\n",
      "4233/4233 [==============================] - 12s 3ms/step - loss: 0.0017\n",
      "Epoch 99/100\n",
      "4233/4233 [==============================] - 11s 3ms/step - loss: 0.0017\n",
      "Epoch 100/100\n",
      "4233/4233 [==============================] - 11s 3ms/step - loss: 0.0017\n"
     ]
    },
    {
     "data": {
      "text/plain": [
       "<keras.callbacks.History at 0x1eda866aa48>"
      ]
     },
     "execution_count": 8,
     "metadata": {},
     "output_type": "execute_result"
    }
   ],
   "source": [
    "#start training with 100 epochs\n",
    "autoencoder.fit(np.array(train_x), np.array(train_y),\n",
    "                epochs=100,\n",
    "                batch_size=256,\n",
    "                verbose = True,\n",
    "                shuffle=False)"
   ]
  },
  {
   "cell_type": "code",
   "execution_count": 9,
   "id": "aa13d782",
   "metadata": {},
   "outputs": [
    {
     "name": "stdout",
     "output_type": "stream",
     "text": [
      "726/726 - 1s - loss: 0.0024 - 1s/epoch - 2ms/step\n"
     ]
    },
    {
     "data": {
      "text/plain": [
       "0.0024249653797596693"
      ]
     },
     "execution_count": 9,
     "metadata": {},
     "output_type": "execute_result"
    }
   ],
   "source": [
    "#evaluating the created model on test data\n",
    "autoencoder.evaluate(np.array(test_x), \n",
    "               np.array(test_y), \n",
    "               batch_size=256,  \n",
    "               verbose=2)"
   ]
  },
  {
   "cell_type": "code",
   "execution_count": 15,
   "id": "7df043e4",
   "metadata": {},
   "outputs": [
    {
     "data": {
      "text/plain": [
       "[<matplotlib.lines.Line2D at 0x1edafae0f48>]"
      ]
     },
     "execution_count": 15,
     "metadata": {},
     "output_type": "execute_result"
    },
    {
     "data": {
      "image/png": "[encoded data removed]",
      "text/plain": [
       "<Figure size 640x480 with 1 Axes>"
      ]
     },
     "metadata": {},
     "output_type": "display_data"
    }
   ],
   "source": [
    "#plotting a graph: blue line - groung truth, orange - what the model predicted\n",
    "plt.plot(range(224), test_y[5], label = \"label\") \n",
    "plt.plot(range(224), autoencoder(np.array([test_x[5]]))[0], label = \"label\")"
   ]
  },
  {
   "cell_type": "code",
   "execution_count": null,
   "id": "d4fdc92e",
   "metadata": {},
   "outputs": [],
   "source": []
  }
 ],
 "metadata": {
  "kernelspec": {
   "display_name": "Python 3 (ipykernel)",
   "language": "python",
   "name": "python3"
  },
  "language_info": {
   "codemirror_mode": {
    "name": "ipython",
    "version": 3
   },
   "file_extension": ".py",
   "mimetype": "text/x-python",
   "name": "python",
   "nbconvert_exporter": "python",
   "pygments_lexer": "ipython3",
   "version": "3.7.9"
  }
 },
 "nbformat": 4,
 "nbformat_minor": 5
}
